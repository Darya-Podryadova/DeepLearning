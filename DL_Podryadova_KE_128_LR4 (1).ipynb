{
  "cells": [
    {
      "cell_type": "markdown",
      "metadata": {
        "id": "9zDo5xdHqsJP"
      },
      "source": [
        "Эту строку вы можете раскомментировать если будет необходимо."
      ]
    },
    {
      "cell_type": "code",
      "execution_count": null,
      "metadata": {
        "id": "CUOj0BUGqumi"
      },
      "outputs": [],
      "source": [
        "#pip install --force-reinstall tensorflow"
      ]
    },
    {
      "cell_type": "markdown",
      "metadata": {
        "id": "MWXMtXo-rDV5"
      },
      "source": [
        "Импорт библиотек"
      ]
    },
    {
      "cell_type": "markdown",
      "metadata": {
        "id": "4ED3XuK8rmsc"
      },
      "source": [
        "Задание:  Используя документацию библиотеки, прочитайте о назначении каждого модуля. Зафиксируйте эти сведения в дополнительной текстовой ячейке."
      ]
    },
    {
      "cell_type": "code",
      "execution_count": null,
      "metadata": {
        "id": "4QdZyO5duJ_f"
      },
      "outputs": [],
      "source": [
        "from keras.layers import Dense # Полносвязный слой, модуль с слоями\n",
        "from keras.models import Sequential\n",
        "\"\"\" Модели,\n",
        "The Sequential model- модель, которая очень проста (простой список слоев),\n",
        "но ограничена стеками слоев с одним входом и одним выходом (как следует из названия).,\n",
        "Functional API - API, который представляет собой простой в использовании\n",
        "полнофункциональный API, поддерживающий произвольные архитектуры моделей.\n",
        "Для большинства людей и в большинстве случаев использования это то, что вы должны использовать.,\n",
        "Model subclassing - Подклассы моделей, при которых вы реализуете все с нуля самостоятельно.\n",
        "Используйте это, если у вас есть сложные, готовые варианты использования для исследований\"\"\"\n",
        "from keras.datasets import mnist # Наборы данных, в данном случае набор с цифрами от 0 до 9\n",
        "from keras import utils # Этот пакет предоставляет утилиты для Keras, такие как модифицированные обратные вызовы, генераторы и т.д.\n",
        "import numpy as np # Библиотека для работы с матрицами\n",
        "import matplotlib.pyplot as plt # matplotlib.pyplot представляет собой набор функций, которые заставляют matplotlib работать подобно MATLAB.\n",
        "%matplotlib inline\n",
        "# %matplotlib inline устанавливает серверную часть matplotlib в \"встроенный\" сервер:"
      ]
    },
    {
      "cell_type": "markdown",
      "metadata": {
        "id": "zDksPVRvsIPf"
      },
      "source": [
        "Инициализация наборов данных"
      ]
    },
    {
      "cell_type": "code",
      "execution_count": null,
      "metadata": {
        "id": "H-DnxFpGu_ze"
      },
      "outputs": [],
      "source": [
        "(X_train, y_train), (X_test, y_test) = mnist.load_data()"
      ]
    },
    {
      "cell_type": "markdown",
      "metadata": {
        "id": "kGNYAy1Asg8s"
      },
      "source": [
        "Изменение форматов  данных"
      ]
    },
    {
      "cell_type": "markdown",
      "metadata": {
        "id": "f35LxS1ktZ5K"
      },
      "source": [
        "Задание: Используя дополнительные инструкции, определите исходный формат данных. Попытайтесь определить какие преобразования и для чего производятся в результате выполнения нижеприведённого кода."
      ]
    },
    {
      "cell_type": "markdown",
      "source": [
        "**Каждое изображение поступает на вход в виде трехмерной numpy матрицы**"
      ],
      "metadata": {
        "id": "BUt614ihPtQM"
      }
    },
    {
      "cell_type": "code",
      "execution_count": null,
      "metadata": {
        "id": "nPRVjqEjvURw"
      },
      "outputs": [],
      "source": [
        "X_train = X_train.reshape(60000, 784) # Предобработка данных, преобразование в новую форму\n",
        "X_test = X_test.reshape(10000, 784)\n",
        "\n",
        "X_train = X_train.astype('float32')\n",
        "X_test = X_test.astype('float32')\n",
        "X_train /= 255 # Нормализация изображений\n",
        "X_test /= 255"
      ]
    },
    {
      "cell_type": "markdown",
      "metadata": {
        "id": "fymXxZvuthm1"
      },
      "source": [
        "Пример выходных данных"
      ]
    },
    {
      "cell_type": "code",
      "execution_count": null,
      "metadata": {
        "id": "8lhVjEyCtdBb",
        "colab": {
          "base_uri": "https://localhost:8080/"
        },
        "outputId": "a1431c8c-58ab-49c8-b35d-4677e031c5b5"
      },
      "outputs": [
        {
          "output_type": "stream",
          "name": "stdout",
          "text": [
            "5\n"
          ]
        }
      ],
      "source": [
        "n = 100\n",
        "print(y_train[n])"
      ]
    },
    {
      "cell_type": "markdown",
      "metadata": {
        "id": "fhibXT1kv0QF"
      },
      "source": [
        "Преобразуем метки в формат one hot encoding"
      ]
    },
    {
      "cell_type": "code",
      "execution_count": null,
      "metadata": {
        "id": "Tpb-Us4Rv1l1"
      },
      "outputs": [],
      "source": [
        "Y_train = utils.to_categorical(y_train, 10)\n",
        "Y_test = utils.to_categorical(y_test, 10)"
      ]
    },
    {
      "cell_type": "markdown",
      "metadata": {
        "id": "QNAoO9zzwGHv"
      },
      "source": [
        "Правильный ответ в формате one hot encoding"
      ]
    },
    {
      "cell_type": "code",
      "execution_count": null,
      "metadata": {
        "id": "QTrwsxBtwHFn",
        "colab": {
          "base_uri": "https://localhost:8080/"
        },
        "outputId": "4ec86b0b-1fb6-4412-fb69-6595257a2033"
      },
      "outputs": [
        {
          "output_type": "stream",
          "name": "stdout",
          "text": [
            "[0. 0. 0. 0. 0. 1. 0. 0. 0. 0.]\n"
          ]
        }
      ],
      "source": [
        "print(Y_train[n])"
      ]
    },
    {
      "cell_type": "markdown",
      "metadata": {
        "id": "dekC-RMmwPUR"
      },
      "source": [
        "Создаем нейронную сеть"
      ]
    },
    {
      "cell_type": "code",
      "execution_count": null,
      "metadata": {
        "id": "iCaDAZTOwQBx"
      },
      "outputs": [],
      "source": [
        "model = Sequential()"
      ]
    },
    {
      "cell_type": "markdown",
      "metadata": {
        "id": "OAApNuaSwWZZ"
      },
      "source": [
        "Добавляем уровни сети\n",
        "\n",
        "Создаем нейронную сеть:"
      ]
    },
    {
      "cell_type": "markdown",
      "metadata": {
        "id": "uTnYeWE027gC"
      },
      "source": [
        "Задание: Используя документацию, определите основные параметры метода add. Запишите полученные сведения в дополнительной текстовой ячейке. Опишите топологию создаваемой в программе нейронной сети и ее особенности (используемые функции активации, …)."
      ]
    },
    {
      "cell_type": "code",
      "execution_count": null,
      "metadata": {
        "id": "F4HnrDHmwYWz"
      },
      "outputs": [],
      "source": [
        "model.add(Dense(784, input_dim=784, activation=\"relu\")) # Добавление слоя, аргументы слоя Dense: количество входных слоев:784, выходных:784, функция активации: relu\n",
        "model.add(Dense(200, input_dim=784, activation=\"relu\"))\n",
        "model.add(Dense(10, activation=\"softmax\"))\n"
      ]
    },
    {
      "cell_type": "markdown",
      "metadata": {
        "id": "2vK7Wuoxwy2G"
      },
      "source": [
        "Компилируем сеть"
      ]
    },
    {
      "cell_type": "markdown",
      "metadata": {
        "id": "AIN2emqUuFoO"
      },
      "source": [
        "Задание: Используя справочный материал, поясните значение каждого параметра метода compile"
      ]
    },
    {
      "cell_type": "code",
      "execution_count": null,
      "metadata": {
        "id": "nvZy5_DbwznW",
        "colab": {
          "base_uri": "https://localhost:8080/"
        },
        "outputId": "6def57c2-1719-4091-c985-6d2966731c14"
      },
      "outputs": [
        {
          "output_type": "stream",
          "name": "stdout",
          "text": [
            "Model: \"sequential_6\"\n",
            "_________________________________________________________________\n",
            " Layer (type)                Output Shape              Param #   \n",
            "=================================================================\n",
            " dense_18 (Dense)            (None, 784)               615440    \n",
            "                                                                 \n",
            " dense_19 (Dense)            (None, 200)               157000    \n",
            "                                                                 \n",
            " dense_20 (Dense)            (None, 10)                2010      \n",
            "                                                                 \n",
            "=================================================================\n",
            "Total params: 774,450\n",
            "Trainable params: 774,450\n",
            "Non-trainable params: 0\n",
            "_________________________________________________________________\n",
            "None\n"
          ]
        }
      ],
      "source": [
        "model.compile(loss=\"categorical_crossentropy\", optimizer=\"adam\", metrics=[\"accuracy\"])\n",
        "# loss=\"categorical_crossentropy\", - функция потерь\n",
        "# optimizer=\"adam\", - функция оптимизации\n",
        "# metrics=[\"accuracy\"] - метрики, которые будут подсчитываться\n",
        "print(model.summary())"
      ]
    },
    {
      "cell_type": "markdown",
      "metadata": {
        "id": "wQ5YXzl7xDlB"
      },
      "source": [
        "Обучаем нейронную сеть\n",
        "\n",
        "Для обучения нейронной сети будем использовать обучающую выборку X_train и правильные ответы для нее Y_train.\n",
        "\n",
        "Параметр bath_size определяет количество образцов, которые будут одновременно использованы для обучения сети. Этот параметр оказывает влияние на алгоритм обучения.\n",
        "\n",
        "Параметр epochs отвечает за число эпох обучения.\n",
        "\n",
        "Параметр validation_split отвечает за долю первоначальных исходных данных, которые пойдут для тестирования обученной сети. Остальная часть исходных данных пойдет для обучения сети.\n",
        "\n",
        "Параметр verbose отвечает за настройку алгоритма обучения сети."
      ]
    },
    {
      "cell_type": "code",
      "execution_count": null,
      "metadata": {
        "colab": {
          "base_uri": "https://localhost:8080/"
        },
        "id": "S-exprpqxEig",
        "outputId": "cdec5d68-4fda-40ae-b994-e09fe75879f9"
      },
      "outputs": [
        {
          "output_type": "stream",
          "name": "stdout",
          "text": [
            "Epoch 1/25\n",
            "240/240 - 11s - loss: 0.2670 - accuracy: 0.9228 - val_loss: 0.1248 - val_accuracy: 0.9627 - 11s/epoch - 45ms/step\n",
            "Epoch 2/25\n",
            "240/240 - 5s - loss: 0.0966 - accuracy: 0.9705 - val_loss: 0.0939 - val_accuracy: 0.9712 - 5s/epoch - 22ms/step\n",
            "Epoch 3/25\n",
            "240/240 - 7s - loss: 0.0584 - accuracy: 0.9830 - val_loss: 0.0830 - val_accuracy: 0.9758 - 7s/epoch - 27ms/step\n",
            "Epoch 4/25\n",
            "240/240 - 9s - loss: 0.0388 - accuracy: 0.9879 - val_loss: 0.0810 - val_accuracy: 0.9737 - 9s/epoch - 39ms/step\n",
            "Epoch 5/25\n",
            "240/240 - 5s - loss: 0.0271 - accuracy: 0.9915 - val_loss: 0.0834 - val_accuracy: 0.9764 - 5s/epoch - 22ms/step\n",
            "Epoch 6/25\n",
            "240/240 - 6s - loss: 0.0188 - accuracy: 0.9944 - val_loss: 0.0812 - val_accuracy: 0.9774 - 6s/epoch - 25ms/step\n",
            "Epoch 7/25\n",
            "240/240 - 9s - loss: 0.0148 - accuracy: 0.9954 - val_loss: 0.0912 - val_accuracy: 0.9761 - 9s/epoch - 40ms/step\n",
            "Epoch 8/25\n",
            "240/240 - 6s - loss: 0.0130 - accuracy: 0.9960 - val_loss: 0.0885 - val_accuracy: 0.9793 - 6s/epoch - 24ms/step\n",
            "Epoch 9/25\n",
            "240/240 - 6s - loss: 0.0125 - accuracy: 0.9959 - val_loss: 0.0929 - val_accuracy: 0.9760 - 6s/epoch - 26ms/step\n",
            "Epoch 10/25\n",
            "240/240 - 10s - loss: 0.0105 - accuracy: 0.9966 - val_loss: 0.0987 - val_accuracy: 0.9771 - 10s/epoch - 40ms/step\n",
            "Epoch 11/25\n",
            "240/240 - 6s - loss: 0.0099 - accuracy: 0.9967 - val_loss: 0.1010 - val_accuracy: 0.9778 - 6s/epoch - 25ms/step\n",
            "Epoch 12/25\n",
            "240/240 - 6s - loss: 0.0086 - accuracy: 0.9972 - val_loss: 0.1051 - val_accuracy: 0.9753 - 6s/epoch - 26ms/step\n",
            "Epoch 13/25\n",
            "240/240 - 10s - loss: 0.0150 - accuracy: 0.9949 - val_loss: 0.0974 - val_accuracy: 0.9787 - 10s/epoch - 40ms/step\n",
            "Epoch 14/25\n",
            "240/240 - 5s - loss: 0.0076 - accuracy: 0.9976 - val_loss: 0.0987 - val_accuracy: 0.9795 - 5s/epoch - 22ms/step\n",
            "Epoch 15/25\n",
            "240/240 - 6s - loss: 0.0051 - accuracy: 0.9983 - val_loss: 0.0982 - val_accuracy: 0.9790 - 6s/epoch - 25ms/step\n",
            "Epoch 16/25\n",
            "240/240 - 10s - loss: 0.0049 - accuracy: 0.9985 - val_loss: 0.1106 - val_accuracy: 0.9781 - 10s/epoch - 43ms/step\n",
            "Epoch 17/25\n",
            "240/240 - 5s - loss: 0.0089 - accuracy: 0.9972 - val_loss: 0.1201 - val_accuracy: 0.9770 - 5s/epoch - 22ms/step\n",
            "Epoch 18/25\n",
            "240/240 - 6s - loss: 0.0104 - accuracy: 0.9965 - val_loss: 0.1175 - val_accuracy: 0.9772 - 6s/epoch - 25ms/step\n",
            "Epoch 19/25\n",
            "240/240 - 10s - loss: 0.0061 - accuracy: 0.9981 - val_loss: 0.1218 - val_accuracy: 0.9762 - 10s/epoch - 40ms/step\n",
            "Epoch 20/25\n",
            "240/240 - 6s - loss: 0.0069 - accuracy: 0.9978 - val_loss: 0.1165 - val_accuracy: 0.9794 - 6s/epoch - 23ms/step\n",
            "Epoch 21/25\n",
            "240/240 - 6s - loss: 0.0076 - accuracy: 0.9976 - val_loss: 0.1063 - val_accuracy: 0.9797 - 6s/epoch - 26ms/step\n",
            "Epoch 22/25\n",
            "240/240 - 9s - loss: 0.0024 - accuracy: 0.9993 - val_loss: 0.1054 - val_accuracy: 0.9807 - 9s/epoch - 39ms/step\n",
            "Epoch 23/25\n",
            "240/240 - 6s - loss: 0.0019 - accuracy: 0.9993 - val_loss: 0.1098 - val_accuracy: 0.9811 - 6s/epoch - 23ms/step\n",
            "Epoch 24/25\n",
            "240/240 - 6s - loss: 9.8234e-04 - accuracy: 0.9997 - val_loss: 0.1081 - val_accuracy: 0.9808 - 6s/epoch - 27ms/step\n",
            "Epoch 25/25\n",
            "240/240 - 9s - loss: 0.0122 - accuracy: 0.9962 - val_loss: 0.1204 - val_accuracy: 0.9766 - 9s/epoch - 37ms/step\n"
          ]
        }
      ],
      "source": [
        "history = model.fit(X_train, Y_train, batch_size=200, epochs=25, validation_split=0.2, verbose=2)"
      ]
    },
    {
      "cell_type": "markdown",
      "metadata": {
        "id": "4Z_Js3UIzPKX"
      },
      "source": [
        "Качество работы сети на тестовых данных"
      ]
    },
    {
      "cell_type": "code",
      "execution_count": null,
      "metadata": {
        "id": "M9gu8tw-zRIn",
        "colab": {
          "base_uri": "https://localhost:8080/"
        },
        "outputId": "b91c861b-80fa-4af0-b90e-7872f8915215"
      },
      "outputs": [
        {
          "output_type": "stream",
          "name": "stdout",
          "text": [
            "Точность работы на тестовых данных: 97.70%\n"
          ]
        }
      ],
      "source": [
        "scores = model.evaluate(X_test, Y_test, verbose=0)\n",
        "print(\"Точность работы на тестовых данных: %.2f%%\" % (scores[1]*100))"
      ]
    },
    {
      "cell_type": "markdown",
      "metadata": {
        "id": "4AuEAIQGzeEp"
      },
      "source": [
        "Задание: Используя справочный материал, изучите атрибуты объекта History. Приведите их краткое описание."
      ]
    },
    {
      "cell_type": "code",
      "execution_count": null,
      "metadata": {
        "id": "r14CA3cezewy"
      },
      "outputs": [],
      "source": [
        "history_dict = history.history # Обратный вызов, который записывает события в History объект."
      ]
    },
    {
      "cell_type": "markdown",
      "metadata": {
        "id": "19bkeetkvDNx"
      },
      "source": [
        "Для построения графика качества обучения используется библиотека matplotlib"
      ]
    },
    {
      "cell_type": "code",
      "execution_count": null,
      "metadata": {
        "id": "TjxyMkOYL76d",
        "colab": {
          "base_uri": "https://localhost:8080/",
          "height": 449
        },
        "outputId": "617b5ac4-52dd-469c-cf32-fc79da59cd46"
      },
      "outputs": [
        {
          "output_type": "display_data",
          "data": {
            "text/plain": [
              "<Figure size 640x480 with 1 Axes>"
            ],
            "image/png": "[encoded data removed]"
          },
          "metadata": {}
        }
      ],
      "source": [
        "\n",
        "plt.plot(history.history['accuracy'], label='train')\n",
        "plt.plot(history.history['val_accuracy'], label='test')\n",
        "plt.legend()\n",
        "plt.xlabel('Epochs')\n",
        "plt.ylabel('Accuracy')\n",
        "plt.show()"
      ]
    },
    {
      "cell_type": "markdown",
      "metadata": {
        "id": "C1Ukdw6awR0W"
      },
      "source": [
        "Теперь можно распознать рукописную цифру из набора данных, используя обученную сеть:"
      ]
    },
    {
      "cell_type": "code",
      "execution_count": null,
      "metadata": {
        "id": "1Wj8zpBC28d_"
      },
      "outputs": [],
      "source": [
        "n_rec = 488"
      ]
    },
    {
      "cell_type": "code",
      "execution_count": null,
      "metadata": {
        "id": "9sQEVexS2_eY"
      },
      "outputs": [],
      "source": [
        "x = X_test[n_rec]\n",
        "x = np.expand_dims(x, axis=0)"
      ]
    },
    {
      "cell_type": "code",
      "execution_count": null,
      "metadata": {
        "id": "-SOyn80k3FMI",
        "colab": {
          "base_uri": "https://localhost:8080/"
        },
        "outputId": "5ce02e86-cb9a-4532-dec8-0960402f1bab"
      },
      "outputs": [
        {
          "output_type": "stream",
          "name": "stdout",
          "text": [
            "1/1 [==============================] - 0s 64ms/step\n"
          ]
        }
      ],
      "source": [
        "prediction = model.predict(x)"
      ]
    },
    {
      "cell_type": "code",
      "execution_count": null,
      "metadata": {
        "id": "oBozSgH63HUh",
        "colab": {
          "base_uri": "https://localhost:8080/"
        },
        "outputId": "9d023adb-0ea4-4d69-e3eb-a7c41b4f3141"
      },
      "outputs": [
        {
          "output_type": "stream",
          "name": "stdout",
          "text": [
            "[[7.2617048e-08 5.2404973e-11 2.9430833e-09 2.7387488e-09 1.3431650e-08\n",
            "  4.4844762e-12 1.6969310e-13 3.9625718e-04 6.6711276e-12 9.9960369e-01]]\n"
          ]
        }
      ],
      "source": [
        "print(prediction)"
      ]
    },
    {
      "cell_type": "code",
      "execution_count": null,
      "metadata": {
        "id": "7jGPklvR3J1R",
        "colab": {
          "base_uri": "https://localhost:8080/"
        },
        "outputId": "6c76d54c-f8fc-4b8c-d5a2-5a3b6442b500"
      },
      "outputs": [
        {
          "output_type": "stream",
          "name": "stdout",
          "text": [
            "9\n"
          ]
        }
      ],
      "source": [
        "prediction = np.argmax(prediction)\n",
        "print(prediction)"
      ]
    },
    {
      "cell_type": "code",
      "execution_count": null,
      "metadata": {
        "id": "6V3BoZhP3RAZ",
        "colab": {
          "base_uri": "https://localhost:8080/"
        },
        "outputId": "36df1524-06ef-4611-839d-a845550d5f5a"
      },
      "outputs": [
        {
          "output_type": "stream",
          "name": "stdout",
          "text": [
            "9\n"
          ]
        }
      ],
      "source": [
        "print(y_test[n_rec])"
      ]
    },
    {
      "cell_type": "markdown",
      "metadata": {
        "id": "Jjp-PcuwxdFj"
      },
      "source": [
        "Используя графический редактор paint создайте изображение рукописной цифры. Используйте базовый инструмент «Карандаш». Размер изображения должен быть 28 на 28 пикселей или близкий к этому, поскольку при преобразовании изображение сильно искажается.\n",
        "Сохраните изображение в формате jpeg и загрузите на свой google-диск.\n"
      ]
    },
    {
      "cell_type": "markdown",
      "metadata": {
        "id": "PxPBhmngxjqU"
      },
      "source": [
        "Подключение google-диска"
      ]
    },
    {
      "cell_type": "code",
      "execution_count": null,
      "metadata": {
        "id": "Mm32uCeAGjsz",
        "colab": {
          "base_uri": "https://localhost:8080/"
        },
        "outputId": "853d1a38-8be0-4346-d1dd-9c457ea0d5a7"
      },
      "outputs": [
        {
          "output_type": "stream",
          "name": "stdout",
          "text": [
            "Drive already mounted at /gdrive; to attempt to forcibly remount, call drive.mount(\"/gdrive\", force_remount=True).\n"
          ]
        }
      ],
      "source": [
        "from google.colab import drive\n",
        "drive.mount('/gdrive')"
      ]
    },
    {
      "cell_type": "markdown",
      "metadata": {
        "id": "ce0AsEUdyLlj"
      },
      "source": [
        "Перейдите по ссылке, выберите свой аккаунт google и нажмите «разрешить». Далее следуйте инструкциям. Скопируйте код, перейдите в приложение и вставьте его в нужное поле:"
      ]
    },
    {
      "cell_type": "markdown",
      "metadata": {
        "id": "SaUYzo_CyVDD"
      },
      "source": [
        "Проверка google-диска ..."
      ]
    },
    {
      "cell_type": "code",
      "execution_count": null,
      "metadata": {
        "id": "G62Oh_FCASyr",
        "colab": {
          "base_uri": "https://localhost:8080/"
        },
        "outputId": "b7c632c2-6f67-4984-b45d-286c0bb21c63"
      },
      "outputs": [
        {
          "output_type": "stream",
          "name": "stdout",
          "text": [
            "1.jpeg\t2.jpeg\t3.jpeg\t8.jpeg\t9.jpeg\n"
          ]
        }
      ],
      "source": [
        "!ls \"/gdrive/My Drive/1\""
      ]
    },
    {
      "cell_type": "markdown",
      "metadata": {
        "id": "VREfJoSfyYf0"
      },
      "source": [
        "Установка библиотек для обработки изображения"
      ]
    },
    {
      "cell_type": "code",
      "execution_count": null,
      "metadata": {
        "id": "nsDeTRU3AZyj",
        "colab": {
          "base_uri": "https://localhost:8080/"
        },
        "outputId": "7923a581-a277-49c8-b089-e9cc467dac19"
      },
      "outputs": [
        {
          "output_type": "stream",
          "name": "stdout",
          "text": [
            "Requirement already satisfied: opencv-python in /usr/local/lib/python3.10/dist-packages (4.8.0.76)\n",
            "Requirement already satisfied: numpy>=1.21.2 in /usr/local/lib/python3.10/dist-packages (from opencv-python) (1.23.5)\n",
            "Requirement already satisfied: scipy in /usr/local/lib/python3.10/dist-packages (1.11.3)\n",
            "Requirement already satisfied: numpy<1.28.0,>=1.21.6 in /usr/local/lib/python3.10/dist-packages (from scipy) (1.23.5)\n"
          ]
        }
      ],
      "source": [
        "!pip install opencv-python\n",
        "!pip install scipy\n"
      ]
    },
    {
      "cell_type": "markdown",
      "metadata": {
        "id": "aasTwVZ4ypwS"
      },
      "source": [
        "Импорт библиотек для обработки изображения.  Загрузка и обработка изображения с google-диска"
      ]
    },
    {
      "cell_type": "code",
      "execution_count": null,
      "metadata": {
        "id": "nYnaBDYoAdm7",
        "colab": {
          "base_uri": "https://localhost:8080/",
          "height": 447
        },
        "outputId": "3de9c9d6-ac5b-41fb-8f14-01d65d83f4f3"
      },
      "outputs": [
        {
          "output_type": "execute_result",
          "data": {
            "text/plain": [
              "<matplotlib.image.AxesImage at 0x7abc9aae9000>"
            ]
          },
          "metadata": {},
          "execution_count": 167
        },
        {
          "output_type": "display_data",
          "data": {
            "text/plain": [
              "<Figure size 640x480 with 1 Axes>"
            ],
            "image/png": "[encoded data removed]"
          },
          "metadata": {}
        }
      ],
      "source": [
        "import cv2\n",
        "import scipy.misc\n",
        "import matplotlib.pyplot as plt\n",
        "img=cv2.imread(\"/gdrive/My Drive/1/1.jpeg\", cv2.IMREAD_UNCHANGED) # Чтение изображения\n",
        "resolution = (28, 28) # Объявление  размера изображения\n",
        "img = cv2.resize(img, resolution) # Преобразование к нужному размеру\n",
        "img = cv2.cvtColor(img, cv2.COLOR_BGR2GRAY) #  метод используется для преобразования изображения из одного цветового пространства в другое.\n",
        "img_data = (255.0-img.reshape(-1))/255 # Приведение к нормализованному виду\n",
        "plt.imshow(img_data.reshape(28,28)) # Преобразование к нужному размеру\n"
      ]
    },
    {
      "cell_type": "markdown",
      "metadata": {
        "id": "hNA5GufTzNpu"
      },
      "source": [
        "Задание: Поясните, какого рода преобразования изображения были произведены, для чего"
      ]
    },
    {
      "cell_type": "code",
      "execution_count": null,
      "metadata": {
        "id": "SyY8jYr9AkR0"
      },
      "outputs": [],
      "source": [
        "x=np.expand_dims(img_data,axis=0)"
      ]
    },
    {
      "cell_type": "markdown",
      "metadata": {
        "id": "ak2xWH4xzRXW"
      },
      "source": [
        "Используя обученную сеть, пробуем распознать вновь созданное изображение"
      ]
    },
    {
      "cell_type": "code",
      "execution_count": null,
      "metadata": {
        "id": "YMib4y7-AnSV",
        "colab": {
          "base_uri": "https://localhost:8080/"
        },
        "outputId": "4e7a4d43-2f41-488e-ebea-d2bf0be84cc3"
      },
      "outputs": [
        {
          "output_type": "stream",
          "name": "stdout",
          "text": [
            "1/1 [==============================] - 0s 22ms/step\n",
            "[[2.0078834e-07 9.8276502e-01 1.7164672e-02 2.6580253e-07 1.9856939e-06\n",
            "  5.9324932e-09 2.7614984e-05 2.0214733e-05 2.0052274e-05 2.1075561e-12]]\n"
          ]
        }
      ],
      "source": [
        "prediction = model.predict(x)\n",
        "print(prediction)"
      ]
    },
    {
      "cell_type": "markdown",
      "metadata": {
        "id": "zRaJ62pNzfQS"
      },
      "source": [
        "Оцените результат"
      ]
    },
    {
      "cell_type": "code",
      "execution_count": null,
      "metadata": {
        "id": "z3jw3vwrA13F",
        "colab": {
          "base_uri": "https://localhost:8080/"
        },
        "outputId": "91d01427-d002-470d-b6a9-caa007b02b97"
      },
      "outputs": [
        {
          "output_type": "stream",
          "name": "stdout",
          "text": [
            "1\n"
          ]
        }
      ],
      "source": [
        "prediction = np.argmax(prediction)\n",
        "print(prediction)\n"
      ]
    }
  ],
  "metadata": {
    "accelerator": "TPU",
    "colab": {
      "provenance": []
    },
    "kernelspec": {
      "display_name": "Python 3",
      "language": "python",
      "name": "python3"
    },
    "language_info": {
      "codemirror_mode": {
        "name": "ipython",
        "version": 3
      },
      "file_extension": ".py",
      "mimetype": "text/x-python",
      "name": "python",
      "nbconvert_exporter": "python",
      "pygments_lexer": "ipython3",
      "version": "3.7.4"
    }
  },
  "nbformat": 4,
  "nbformat_minor": 0
}