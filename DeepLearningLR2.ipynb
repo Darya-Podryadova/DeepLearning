{
  "nbformat": 4,
  "nbformat_minor": 0,
  "metadata": {
    "colab": {
      "provenance": []
    },
    "kernelspec": {
      "name": "python3",
      "display_name": "Python 3"
    },
    "language_info": {
      "name": "python"
    }
  },
  "cells": [
    {
      "cell_type": "code",
      "source": [
        "# Стандартные библиотеки\n",
        "import random # библиотека функций для генерации случайных значений\n",
        "# Сторонние библиотеки\n",
        "import numpy as np # библиотека функций для работы с матрицами\n",
        "import gzip # библиотека для сжатия и распаковки файлов gzip и gunzip.\n",
        "import pickle # библиотека для сохранения и загрузки сложных объектов Python.\n",
        "import numpy as np # библиотека для работы с матрицами"
      ],
      "metadata": {
        "id": "oOHbQhBL6F9N"
      },
      "execution_count": null,
      "outputs": []
    },
    {
      "cell_type": "code",
      "source": [
        "def sigmoid(z): # определение сигмоидальной функции активации\n",
        "    return 1.0/(1.0+np.exp(-z))\n",
        "\n",
        "def sigmoid_prime(z):# Производная сигмоидальной функции\n",
        " return sigmoid(z)*(1-sigmoid(z))\n",
        "\n",
        "def load_data():\n",
        "    f = gzip.open('mnist.pkl.gz', 'rb') # открываем сжатый файл gzip вдвоичном режиме\n",
        "    training_data, validation_data, test_data = pickle.load(f, encoding='latin1') # загружам таблицы из файла\n",
        "\n",
        "    #training_data,  test_data = pickle.load(f, encoding='latin1')  # загружам таблицы из файла\n",
        "    f.close() # закрываем файл\n",
        "    return (training_data, validation_data, test_data)\n",
        "    #return (training_data,  test_data)\n",
        "\n",
        "\n",
        "def load_data_wrapper():\n",
        "    tr_d, va_d, te_d = load_data() # инициализация наборов данных в формате MNIST\n",
        "    #tr_d,  te_d = load_data()  # инициализация наборов данных в формате MNIST\n",
        "    training_inputs = [np.reshape(x, (784, 1)) for x in tr_d[0]] # преобразование массивов размера 1 на 784 к массивам размера 784 на 1\n",
        "    training_results = [vectorized_result(y) for y in tr_d[1]] # представление цифр от 0 до 9 в виде массивов размера 10 на 1\n",
        "    training_data = zip(training_inputs, training_results) # формируем набор обучающих данных из пар (x, y)\n",
        "    validation_inputs = [np.reshape(x, (784, 1)) for x in va_d[0]] # преобразование массивов размера 1 на 784 к массивам размера 784 на 1\n",
        "    validation_data = zip(validation_inputs, va_d[1]) # формируем набор данных проверки из пар (x, y)\n",
        "    test_inputs = [np.reshape(x, (784, 1)) for x in te_d[0]] # преобразование массивов размера 1 на 784 к массивам размера 784 на 1\n",
        "    test_data = zip(test_inputs, te_d[1]) # формируем набор тестовых данных из пар (x, y)\n",
        "    return (training_data, validation_data, test_data)\n",
        "    #return (training_data,  test_data)\n",
        "def vectorized_result(j):\n",
        "    e = np.zeros((10, 1))\n",
        "    e[j] = 1.0\n",
        "    return e"
      ],
      "metadata": {
        "id": "V-Gc3ZDK6DOJ"
      },
      "execution_count": null,
      "outputs": []
    },
    {
      "cell_type": "code",
      "execution_count": null,
      "metadata": {
        "id": "dOs_DPU4581G"
      },
      "outputs": [],
      "source": [
        "class Network(object): # используется для описания нейронной сети\n",
        "    def __init__(self, sizes): # конструктор класса\n",
        "     # self – указатель на объект класса\n",
        "     # sizes – список размеров слоев нейроннойсети\n",
        "        self.num_layers = len(sizes) # задаем количество слоев нейроннойсети\n",
        "        self.sizes = sizes # задаем список размеров слоев нейронной сети\n",
        "        self.biases = [np.random.randn(y, 1) for y in sizes[1:]] # задаемслучайные начальные смещения\n",
        "        self.weights = [np.random.randn(y, x) for x, y in zip(sizes[:-1],sizes[1:])] # задаем случайные начальные веса связей\n",
        "\n",
        "    def feedforward(self, a):\n",
        "        for b, w in zip(self.biases, self.weights):\n",
        "            a = sigmoid(np.dot(w, a) + b)\n",
        "        return a\n",
        "    def SGD( # Стохастический градиентный спуск\n",
        "         self # указатель на объект класса\n",
        "         , training_data # обучающая выборка\n",
        "         , epochs # количество эпох обучения\n",
        "         , mini_batch_size # размер подвыборки\n",
        "         , eta # скорость обучения\n",
        "         , test_data # тестирующая выборка\n",
        "         ):\n",
        "            test_data = list(test_data) # создаем список объектов тестирующейвыборки\n",
        "            n_test = len(test_data) # вычисляем длину тестирующей выборки\n",
        "            training_data = list(training_data) # создаем список объектов обучающей выборки\n",
        "            n = len(training_data) # вычисляем размер обучающей выборки\n",
        "            for j in range(epochs): # цикл по эпохам\n",
        "                random.shuffle(training_data) # перемешиваем элементы обучающей выборки\n",
        "                mini_batches = [training_data[k:k+mini_batch_size] for k in range(0, n, mini_batch_size)] # создаем подвыборки\n",
        "                for mini_batch in mini_batches: # цикл по подвыборкам\n",
        "                    self.update_mini_batch(mini_batch, eta) # один шаг градиентного спуска\n",
        "                print (\"Epoch {0}: {1} / {2}\".format(j, self.evaluate(test_data), n_test)) # смотрим прогресс в обучении\n",
        "\n",
        "    def update_mini_batch( # Шаг градиентного спуска\n",
        "         self # указатель на объект класса\n",
        "         , mini_batch # подвыборка\n",
        "         , eta # скорость обучения\n",
        "         ):\n",
        "             nabla_b = [np.zeros(b.shape) for b in self.biases] # список градиентов dC/db для каждого слоя (первоначально заполняются нулями)\n",
        "             nabla_w = [np.zeros(w.shape) for w in self.weights] # список градиентов dC/dw для каждого слоя (первоначально заполняются нулями)\n",
        "             for x, y in mini_batch:\n",
        "                 delta_nabla_b, delta_nabla_w = self.backprop(x, y) # послойно вычисляем градиенты dC/db и dC/dw для текущего прецедента (x, y)\n",
        "                 nabla_b = [nb+dnb for nb, dnb in zip(nabla_b, delta_nabla_b)] # суммируем градиенты dC/db для различных прецедентов текущей подвыборки\n",
        "                 nabla_w = [nw+dnw for nw, dnw in zip(nabla_w, delta_nabla_w)] # суммируем градиенты dC/dw для различных прецедентов текущей подвыборки\n",
        "             self.weights = [w-(eta/len(mini_batch))*nw for w, nw in zip(self.weights, nabla_w)] # обновляем все веса w нейронной сети\n",
        "             self.biases = [b-(eta/len(mini_batch))*nb for b, nb in zip(self.biases, nabla_b)] # обновляем все смещения b нейронной сети\n",
        "\n",
        "    def backprop( # Алгоритм обратного распространения\n",
        "         self # указатель на объект класса\n",
        "         , x # вектор входных сигналов\n",
        "         , y # ожидаемый вектор выходных сигналов\n",
        "         ):\n",
        "         nabla_b = [np.zeros(b.shape) for b in self.biases] # списокградиентов dC/db для каждого слоя (первоначально заполняются нулями)\n",
        "         nabla_w = [np.zeros(w.shape) for w in self.weights] # списокградиентов dC/dw для каждого слоя (первоначально заполняются нулями)\n",
        "         # определение переменных\n",
        "         activation = x # выходные сигналы слоя (первоначально соответствуетвыходным сигналам 1-го слоя или входным сигналам сети)\n",
        "         activations = [x] # список выходных сигналов по всем слоям(первоначально содержит только выходные сигналы 1-го слоя)\n",
        "         zs = [] # список активационных потенциалов по всем слоям(первоначально пуст)\n",
        "\n",
        "         # прямое распространение\n",
        "         for b, w in zip(self.biases, self.weights):\n",
        "             z = np.dot(w, activation)+b # считаем активационные потенциалы текущего слоя\n",
        "             zs.append(z) # добавляем элемент (активационные потенциалы слоя) в конец списка\n",
        "             activation = sigmoid(z) # считаем выходные сигналы текущего слоя, применяя сигмоидальную функцию активации к активационным потенциалам слоя\n",
        "             activations.append(activation) # добавляем элемент (выходныесигналы слоя) в конец списка\n",
        "\n",
        "         # обратное распространение\n",
        "         delta = self.cost_derivative(activations[-1], y) * sigmoid_prime(zs[-1]) # считаем меру влияния нейронов выходного слоя L навеличину ошибки (BP1)\n",
        "         nabla_b[-1] = delta # градиент dC/db для слоя L (BP3)\n",
        "         nabla_w[-1] = np.dot(delta, activations[-2].transpose()) # градиент dC/dw для слоя L (BP4)\n",
        "\n",
        "         for l in range(2, self.num_layers):\n",
        "             z = zs[-l] # активационные потенциалы l-го слоя (двигаемся по списку справа налево)\n",
        "             sp = sigmoid_prime(z) # считаем сигмоидальную функцию от активационных потенциалов l-го слоя\n",
        "             delta = np.dot(self.weights[-l+1].transpose(), delta) * sp # считаем меру влияния нейронов l-го слоя на величину ошибки (BP2)\n",
        "             nabla_b[-l] = delta # градиент dC/db для l-го слоя (BP3)\n",
        "             nabla_w[-l] = np.dot(delta, activations[-l-1].transpose())# градиент dC/dw для l-го слоя (BP4)\n",
        "         return (nabla_b, nabla_w)\n",
        "\n",
        "    def evaluate(self, test_data): # Оценка прогресса в обучении\n",
        "         test_results = [(np.argmax(self.feedforward(x)), y)\n",
        "         for (x, y) in test_data]\n",
        "         return sum(int(x == y) for (x, y) in test_results)\n",
        "\n",
        "    def cost_derivative(self, output_activations, y):    # Вычисление частных производных стоимостной функции по выходным сигналам последнего слоя\n",
        "         return (output_activations-y)"
      ]
    },
    {
      "cell_type": "code",
      "source": [
        "from datetime import datetime\n",
        "\n",
        "\n",
        "training_data, validation_data, test_data = load_data_wrapper()\n",
        "#training_data,  test_data = mnist_loader.load_data_wrapper()\n",
        "start_time = datetime.now()\n",
        "\n",
        "''''''\n",
        "\n",
        "net = Network([784, 100, 10])\n",
        "net.SGD(training_data, 30, 10, 3.0, test_data=test_data)\n",
        "\n",
        "end_time = datetime.now()\n",
        "print('Duration: {}'.format(end_time - start_time))"
      ],
      "metadata": {
        "colab": {
          "base_uri": "https://localhost:8080/"
        },
        "id": "OzoQ-Sv06PWg",
        "outputId": "60ef23ff-b2c5-4d8e-c9f4-96c63a56f206"
      },
      "execution_count": null,
      "outputs": [
        {
          "output_type": "stream",
          "name": "stdout",
          "text": [
            "Epoch 0: 4977 / 10000\n",
            "Epoch 1: 5055 / 10000\n",
            "Epoch 2: 5761 / 10000\n",
            "Epoch 3: 5842 / 10000\n",
            "Epoch 4: 5866 / 10000\n",
            "Epoch 5: 5870 / 10000\n",
            "Epoch 6: 5890 / 10000\n",
            "Epoch 7: 6730 / 10000\n",
            "Epoch 8: 6795 / 10000\n",
            "Epoch 9: 6796 / 10000\n",
            "Epoch 10: 6801 / 10000\n",
            "Epoch 11: 6817 / 10000\n",
            "Epoch 12: 6845 / 10000\n",
            "Epoch 13: 6844 / 10000\n",
            "Epoch 14: 6840 / 10000\n",
            "Epoch 15: 6863 / 10000\n",
            "Epoch 16: 6850 / 10000\n",
            "Epoch 17: 6844 / 10000\n",
            "Epoch 18: 6867 / 10000\n",
            "Epoch 19: 6843 / 10000\n",
            "Epoch 20: 6892 / 10000\n",
            "Epoch 21: 6870 / 10000\n",
            "Epoch 22: 6906 / 10000\n",
            "Epoch 23: 6875 / 10000\n",
            "Epoch 24: 6899 / 10000\n",
            "Epoch 25: 6911 / 10000\n",
            "Epoch 26: 6907 / 10000\n",
            "Epoch 27: 6908 / 10000\n",
            "Epoch 28: 6920 / 10000\n",
            "Epoch 29: 6950 / 10000\n",
            "Duration: 0:06:50.212670\n"
          ]
        }
      ]
    },
    {
      "cell_type": "code",
      "source": [
        "training_data, validation_data, test_data = load_data_wrapper()\n",
        "#training_data,  test_data = mnist_loader.load_data_wrapper()\n",
        "start_time = datetime.now()\n",
        "\n",
        "net = Network([784, 100, 10])\n",
        "net.SGD(training_data, 30, 1000, 0.001, test_data=test_data)\n",
        "\n",
        "end_time = datetime.now()\n",
        "print('Duration: {}'.format(end_time - start_time))"
      ],
      "metadata": {
        "colab": {
          "base_uri": "https://localhost:8080/"
        },
        "id": "_eA-P__h8JiI",
        "outputId": "b8ff0665-a4b7-44af-949d-53d07e5397b1"
      },
      "execution_count": null,
      "outputs": [
        {
          "output_type": "stream",
          "name": "stdout",
          "text": [
            "Epoch 0: 778 / 10000\n",
            "Epoch 1: 781 / 10000\n",
            "Epoch 2: 784 / 10000\n",
            "Epoch 3: 785 / 10000\n",
            "Epoch 4: 789 / 10000\n",
            "Epoch 5: 792 / 10000\n",
            "Epoch 6: 790 / 10000\n",
            "Epoch 7: 785 / 10000\n",
            "Epoch 8: 787 / 10000\n",
            "Epoch 9: 790 / 10000\n",
            "Epoch 10: 792 / 10000\n",
            "Epoch 11: 791 / 10000\n",
            "Epoch 12: 795 / 10000\n",
            "Epoch 13: 796 / 10000\n",
            "Epoch 14: 800 / 10000\n",
            "Epoch 15: 804 / 10000\n",
            "Epoch 16: 806 / 10000\n",
            "Epoch 17: 804 / 10000\n",
            "Epoch 18: 800 / 10000\n",
            "Epoch 19: 801 / 10000\n",
            "Epoch 20: 802 / 10000\n",
            "Epoch 21: 803 / 10000\n",
            "Epoch 22: 799 / 10000\n",
            "Epoch 23: 803 / 10000\n",
            "Epoch 24: 804 / 10000\n",
            "Epoch 25: 804 / 10000\n",
            "Epoch 26: 805 / 10000\n",
            "Epoch 27: 805 / 10000\n",
            "Epoch 28: 806 / 10000\n",
            "Epoch 29: 803 / 10000\n",
            "Duration: 0:06:16.794593\n"
          ]
        }
      ]
    },
    {
      "cell_type": "code",
      "source": [
        "training_data, validation_data, test_data = load_data_wrapper()\n",
        "#training_data,  test_data = mnist_loader.load_data_wrapper()\n",
        "start_time = datetime.now()\n",
        "\n",
        "net = Network([784, 30, 10])\n",
        "net.SGD(training_data, 30, 10, 100.0, test_data=test_data)\n",
        "\n",
        "end_time = datetime.now()\n",
        "print('Duration: {}'.format(end_time - start_time))"
      ],
      "metadata": {
        "colab": {
          "base_uri": "https://localhost:8080/"
        },
        "id": "kDpFfqUu8M7n",
        "outputId": "4c0ec73b-bf82-471e-bc78-07def1e71d46"
      },
      "execution_count": null,
      "outputs": [
        {
          "output_type": "stream",
          "name": "stdout",
          "text": [
            "Epoch 0: 1556 / 10000\n",
            "Epoch 1: 1556 / 10000\n",
            "Epoch 2: 1556 / 10000\n",
            "Epoch 3: 1556 / 10000\n",
            "Epoch 4: 1556 / 10000\n",
            "Epoch 5: 1556 / 10000\n",
            "Epoch 6: 1556 / 10000\n",
            "Epoch 7: 1556 / 10000\n",
            "Epoch 8: 1556 / 10000\n",
            "Epoch 9: 1556 / 10000\n",
            "Epoch 10: 1556 / 10000\n",
            "Epoch 11: 1556 / 10000\n",
            "Epoch 12: 1556 / 10000\n",
            "Epoch 13: 1556 / 10000\n",
            "Epoch 14: 1556 / 10000\n",
            "Epoch 15: 1556 / 10000\n",
            "Epoch 16: 1556 / 10000\n",
            "Epoch 17: 1556 / 10000\n",
            "Epoch 18: 1556 / 10000\n",
            "Epoch 19: 1556 / 10000\n",
            "Epoch 20: 1556 / 10000\n",
            "Epoch 21: 1556 / 10000\n",
            "Epoch 22: 1556 / 10000\n",
            "Epoch 23: 1556 / 10000\n",
            "Epoch 24: 1556 / 10000\n",
            "Epoch 25: 1556 / 10000\n",
            "Epoch 26: 1556 / 10000\n",
            "Epoch 27: 1556 / 10000\n",
            "Epoch 28: 1556 / 10000\n",
            "Epoch 29: 1556 / 10000\n",
            "Duration: 0:03:41.561315\n"
          ]
        }
      ]
    },
    {
      "cell_type": "code",
      "source": [
        "training_data, validation_data, test_data = load_data_wrapper()\n",
        "#training_data,  test_data = mnist_loader.load_data_wrapper()\n",
        "start_time = datetime.now()\n",
        "\n",
        "net = Network([784, 10])\n",
        "net.SGD(training_data, 30, 10, 100.0, test_data=test_data)\n",
        "\n",
        "end_time = datetime.now()\n",
        "print('Duration: {}'.format(end_time - start_time))"
      ],
      "metadata": {
        "colab": {
          "base_uri": "https://localhost:8080/"
        },
        "id": "1T2BvRdw8Nkh",
        "outputId": "c2e9a86b-845d-44e2-fde7-86111aefdfd2"
      },
      "execution_count": null,
      "outputs": [
        {
          "output_type": "stream",
          "name": "stdout",
          "text": [
            "Epoch 0: 2275 / 10000\n"
          ]
        },
        {
          "output_type": "stream",
          "name": "stderr",
          "text": [
            "<ipython-input-6-d4b200e2015a>:2: RuntimeWarning: overflow encountered in exp\n",
            "  return 1.0/(1.0+np.exp(-z))\n"
          ]
        },
        {
          "output_type": "stream",
          "name": "stdout",
          "text": [
            "Epoch 1: 2268 / 10000\n",
            "Epoch 2: 2293 / 10000\n",
            "Epoch 3: 2307 / 10000\n",
            "Epoch 4: 2939 / 10000\n",
            "Epoch 5: 2947 / 10000\n",
            "Epoch 6: 2952 / 10000\n",
            "Epoch 7: 3003 / 10000\n",
            "Epoch 8: 3006 / 10000\n",
            "Epoch 9: 2998 / 10000\n",
            "Epoch 10: 2988 / 10000\n",
            "Epoch 11: 3016 / 10000\n",
            "Epoch 12: 2977 / 10000\n",
            "Epoch 13: 3012 / 10000\n",
            "Epoch 14: 2997 / 10000\n",
            "Epoch 15: 3003 / 10000\n",
            "Epoch 16: 2981 / 10000\n",
            "Epoch 17: 2983 / 10000\n",
            "Epoch 18: 3005 / 10000\n",
            "Epoch 19: 3003 / 10000\n",
            "Epoch 20: 2980 / 10000\n",
            "Epoch 21: 2984 / 10000\n",
            "Epoch 22: 2967 / 10000\n",
            "Epoch 23: 3007 / 10000\n",
            "Epoch 24: 3012 / 10000\n",
            "Epoch 25: 2987 / 10000\n",
            "Epoch 26: 2999 / 10000\n",
            "Epoch 27: 2955 / 10000\n",
            "Epoch 28: 2997 / 10000\n",
            "Epoch 29: 3013 / 10000\n",
            "Duration: 0:01:08.183151\n"
          ]
        }
      ]
    },
    {
      "cell_type": "code",
      "source": [
        "training_data, validation_data, test_data = load_data_wrapper()\n",
        "#training_data,  test_data = mnist_loader.load_data_wrapper()\n",
        "start_time = datetime.now()\n",
        "\n",
        "net = Network([784, 30, 10])\n",
        "net.SGD(training_data, 30, 100, 3.0, test_data=test_data)\n",
        "\n",
        "end_time = datetime.now()\n",
        "print('Duration: {}'.format(end_time - start_time))"
      ],
      "metadata": {
        "colab": {
          "base_uri": "https://localhost:8080/"
        },
        "id": "gKVR1vuo8OfP",
        "outputId": "58d18c7b-1709-4026-9651-8b68b533173d"
      },
      "execution_count": null,
      "outputs": [
        {
          "output_type": "stream",
          "name": "stdout",
          "text": [
            "Epoch 0: 6124 / 10000\n",
            "Epoch 1: 7342 / 10000\n",
            "Epoch 2: 7822 / 10000\n",
            "Epoch 3: 7982 / 10000\n",
            "Epoch 4: 8095 / 10000\n",
            "Epoch 5: 8153 / 10000\n",
            "Epoch 6: 8194 / 10000\n",
            "Epoch 7: 8222 / 10000\n",
            "Epoch 8: 8270 / 10000\n",
            "Epoch 9: 8301 / 10000\n",
            "Epoch 10: 8312 / 10000\n",
            "Epoch 11: 8316 / 10000\n",
            "Epoch 12: 8363 / 10000\n",
            "Epoch 13: 8367 / 10000\n",
            "Epoch 14: 8372 / 10000\n",
            "Epoch 15: 8397 / 10000\n",
            "Epoch 16: 8388 / 10000\n",
            "Epoch 17: 8411 / 10000\n",
            "Epoch 18: 8424 / 10000\n",
            "Epoch 19: 8436 / 10000\n",
            "Epoch 20: 8430 / 10000\n",
            "Epoch 21: 8451 / 10000\n",
            "Epoch 22: 8456 / 10000\n",
            "Epoch 23: 8464 / 10000\n",
            "Epoch 24: 8467 / 10000\n",
            "Epoch 25: 8477 / 10000\n",
            "Epoch 26: 8470 / 10000\n",
            "Epoch 27: 8494 / 10000\n",
            "Epoch 28: 8483 / 10000\n",
            "Epoch 29: 8487 / 10000\n",
            "Duration: 0:03:50.950794\n"
          ]
        }
      ]
    },
    {
      "cell_type": "code",
      "source": [
        "training_data, validation_data, test_data = load_data_wrapper()\n",
        "#training_data,  test_data = mnist_loader.load_data_wrapper()\n",
        "start_time = datetime.now()\n",
        "\n",
        "net = Network([784, 30, 10])\n",
        "net.SGD(training_data, 15, 100, 3.0, test_data=test_data)\n",
        "\n",
        "end_time = datetime.now()\n",
        "print('Duration: {}'.format(end_time - start_time))"
      ],
      "metadata": {
        "colab": {
          "base_uri": "https://localhost:8080/"
        },
        "id": "sM4U6Bos8PBX",
        "outputId": "4c5f0195-e05e-401c-af71-e1d4812a2cf0"
      },
      "execution_count": null,
      "outputs": [
        {
          "output_type": "stream",
          "name": "stdout",
          "text": [
            "Epoch 0: 7489 / 10000\n",
            "Epoch 1: 8452 / 10000\n",
            "Epoch 2: 8715 / 10000\n",
            "Epoch 3: 8854 / 10000\n",
            "Epoch 4: 8946 / 10000\n",
            "Epoch 5: 9001 / 10000\n",
            "Epoch 6: 9043 / 10000\n",
            "Epoch 7: 9075 / 10000\n",
            "Epoch 8: 9113 / 10000\n",
            "Epoch 9: 9146 / 10000\n",
            "Epoch 10: 9163 / 10000\n",
            "Epoch 11: 9175 / 10000\n",
            "Epoch 12: 9197 / 10000\n",
            "Epoch 13: 9199 / 10000\n",
            "Epoch 14: 9228 / 10000\n",
            "Duration: 0:01:47.721579\n"
          ]
        }
      ]
    },
    {
      "cell_type": "code",
      "source": [
        "training_data, validation_data, test_data = load_data_wrapper()\n",
        "#training_data,  test_data = mnist_loader.load_data_wrapper()\n",
        "start_time = datetime.now()\n",
        "\n",
        "net = Network([784, 30, 10])\n",
        "net.SGD(training_data, 30, 50, 3.0, test_data=test_data)\n",
        "\n",
        "end_time = datetime.now()\n",
        "print('Duration: {}'.format(end_time - start_time))"
      ],
      "metadata": {
        "colab": {
          "base_uri": "https://localhost:8080/"
        },
        "id": "M81OTSPw8P1G",
        "outputId": "538ab9a9-e078-425a-d651-bffccc3b498e"
      },
      "execution_count": null,
      "outputs": [
        {
          "output_type": "stream",
          "name": "stdout",
          "text": [
            "Epoch 0: 7764 / 10000\n",
            "Epoch 1: 8115 / 10000\n",
            "Epoch 2: 8920 / 10000\n",
            "Epoch 3: 9108 / 10000\n",
            "Epoch 4: 9169 / 10000\n",
            "Epoch 5: 9213 / 10000\n",
            "Epoch 6: 9228 / 10000\n",
            "Epoch 7: 9259 / 10000\n",
            "Epoch 8: 9278 / 10000\n",
            "Epoch 9: 9304 / 10000\n",
            "Epoch 10: 9319 / 10000\n",
            "Epoch 11: 9318 / 10000\n",
            "Epoch 12: 9342 / 10000\n",
            "Epoch 13: 9343 / 10000\n",
            "Epoch 14: 9365 / 10000\n",
            "Epoch 15: 9355 / 10000\n",
            "Epoch 16: 9396 / 10000\n",
            "Epoch 17: 9384 / 10000\n",
            "Epoch 18: 9383 / 10000\n",
            "Epoch 19: 9387 / 10000\n",
            "Epoch 20: 9393 / 10000\n",
            "Epoch 21: 9411 / 10000\n",
            "Epoch 22: 9403 / 10000\n",
            "Epoch 23: 9409 / 10000\n",
            "Epoch 24: 9413 / 10000\n",
            "Epoch 25: 9419 / 10000\n",
            "Epoch 26: 9419 / 10000\n",
            "Epoch 27: 9435 / 10000\n",
            "Epoch 28: 9436 / 10000\n",
            "Epoch 29: 9423 / 10000\n",
            "Duration: 0:03:38.135270\n"
          ]
        }
      ]
    },
    {
      "cell_type": "code",
      "source": [
        "training_data, validation_data, test_data = load_data_wrapper()\n",
        "#training_data,  test_data = mnist_loader.load_data_wrapper()\n",
        "start_time = datetime.now()\n",
        "\n",
        "net = Network([784, 10, 10])\n",
        "net.SGD(training_data, 10, 30, 1.5, test_data=test_data)\n",
        "\n",
        "end_time = datetime.now()\n",
        "print('Duration: {}'.format(end_time - start_time))"
      ],
      "metadata": {
        "colab": {
          "base_uri": "https://localhost:8080/"
        },
        "id": "Qw941oEl8QhH",
        "outputId": "90472b35-e308-4404-db59-79cd22662ac8"
      },
      "execution_count": null,
      "outputs": [
        {
          "output_type": "stream",
          "name": "stdout",
          "text": [
            "Epoch 0: 7432 / 10000\n",
            "Epoch 1: 8447 / 10000\n",
            "Epoch 2: 8670 / 10000\n",
            "Epoch 3: 8746 / 10000\n",
            "Epoch 4: 8808 / 10000\n",
            "Epoch 5: 8871 / 10000\n",
            "Epoch 6: 8876 / 10000\n",
            "Epoch 7: 8899 / 10000\n",
            "Epoch 8: 8932 / 10000\n",
            "Epoch 9: 8967 / 10000\n",
            "Duration: 0:00:33.107510\n"
          ]
        }
      ]
    },
    {
      "cell_type": "code",
      "source": [
        "training_data, validation_data, test_data = load_data_wrapper()\n",
        "#training_data,  test_data = mnist_loader.load_data_wrapper()\n",
        "start_time = datetime.now()\n",
        "\n",
        "net = Network([784, 15, 10])\n",
        "net.SGD(training_data, 20, 100, 0.3, test_data=test_data)\n",
        "\n",
        "end_time = datetime.now()\n",
        "print('Duration: {}'.format(end_time - start_time))"
      ],
      "metadata": {
        "colab": {
          "base_uri": "https://localhost:8080/"
        },
        "id": "6SejC9uh8StT",
        "outputId": "d2e3bbbd-98a7-4063-e63a-6c0f5310734c"
      },
      "execution_count": null,
      "outputs": [
        {
          "output_type": "stream",
          "name": "stdout",
          "text": [
            "Epoch 0: 1966 / 10000\n",
            "Epoch 1: 3337 / 10000\n",
            "Epoch 2: 4301 / 10000\n",
            "Epoch 3: 4916 / 10000\n",
            "Epoch 4: 5373 / 10000\n",
            "Epoch 5: 5691 / 10000\n",
            "Epoch 6: 5972 / 10000\n",
            "Epoch 7: 6306 / 10000\n",
            "Epoch 8: 6525 / 10000\n",
            "Epoch 9: 6702 / 10000\n",
            "Epoch 10: 6844 / 10000\n",
            "Epoch 11: 6956 / 10000\n",
            "Epoch 12: 7050 / 10000\n",
            "Epoch 13: 7150 / 10000\n",
            "Epoch 14: 7251 / 10000\n",
            "Epoch 15: 7410 / 10000\n",
            "Epoch 16: 7751 / 10000\n",
            "Epoch 17: 7968 / 10000\n",
            "Epoch 18: 8067 / 10000\n",
            "Epoch 19: 8168 / 10000\n",
            "Duration: 0:01:56.426321\n"
          ]
        }
      ]
    }
  ]
}